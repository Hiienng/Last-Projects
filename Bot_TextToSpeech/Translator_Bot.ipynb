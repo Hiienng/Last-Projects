{
 "cells": [
  {
   "cell_type": "markdown",
   "id": "8da05a47",
   "metadata": {},
   "source": [
    "This document incl. 2 simple bots \n",
    "- Text-to-speech\n",
    "- Language translation.\n",
    "- Source: https://www.youtube.com/watch?v=_jLRKUuBUtY&t=424s"
   ]
  },
  {
   "cell_type": "code",
   "execution_count": null,
   "id": "00c47699",
   "metadata": {},
   "outputs": [],
   "source": [
    "!pip install ibm_watson"
   ]
  },
  {
   "cell_type": "markdown",
   "id": "20da8561",
   "metadata": {},
   "source": [
    "# 1. Authenticate"
   ]
  },
  {
   "cell_type": "code",
   "execution_count": null,
   "id": "0a1d9674",
   "metadata": {},
   "outputs": [],
   "source": [
    "api = 'UxKY7N5Iu1iITs77_lpTEBCuyJi_BsVNMk3mAbeFCbUf'\n",
    "url = 'https://api.au-syd.language-translator.watson.cloud.ibm.com/instances/1ac79c78-843b-403a-ba1c-8ecb1d0ba8b6'\n",
    "ver = '2018-05-01'"
   ]
  },
  {
   "cell_type": "code",
   "execution_count": null,
   "id": "f980beed",
   "metadata": {},
   "outputs": [],
   "source": [
    "# import LanguageTranslatorV3 package \n",
    "# and get api, url from IBM web: https://cloud.ibm.com/catalog?category=ai\n",
    "from ibm_watson import LanguageTranslatorV3\n",
    "from ibm_cloud_sdk_core.authenticators import IAMAuthenticator"
   ]
  },
  {
   "cell_type": "code",
   "execution_count": null,
   "id": "4380153a",
   "metadata": {},
   "outputs": [],
   "source": [
    "# Setup with authentic keys\n",
    "authenticator = IAMAuthenticator(api)\n",
    "lt = LanguageTranslatorV3(version = ver, authenticator = authenticator)\n",
    "lt.set_service_url(url)"
   ]
  },
  {
   "cell_type": "markdown",
   "id": "b6c7d22f",
   "metadata": {},
   "source": [
    "# 2. Translate"
   ]
  },
  {
   "cell_type": "code",
   "execution_count": null,
   "id": "1a39bcee",
   "metadata": {},
   "outputs": [],
   "source": [
    "ini_text = str(input(\"We will help to translate English-Japanese. Please input your sentences here: \"))\n",
    "tran_text  = lt.translate(text = ini_text, model_id='en-ja').get_result()\n",
    "Showed_text = tran_text['translations'][0]['translation']\n",
    "Showed_text\n",
    "# model_id check here: https://cloud.ibm.com/docs/language-translator?topic=language-translator-translation-models"
   ]
  },
  {
   "cell_type": "markdown",
   "id": "88816d37",
   "metadata": {},
   "source": [
    "# 3. Identify language"
   ]
  },
  {
   "cell_type": "code",
   "execution_count": null,
   "id": "2551c1fc",
   "metadata": {},
   "outputs": [],
   "source": [
    "inputa = str(input('We will guess your language. Please input your sentences here: '))\n",
    "language = lt.identify(inputa).get_result()\n",
    "language"
   ]
  },
  {
   "cell_type": "markdown",
   "id": "80cdb875",
   "metadata": {},
   "source": [
    "# 4. AI travel guide\n",
    "In this part I, translate your language from English to Chinese using above LanguageTranslatorV3  and later on with the TextToSpeechV1."
   ]
  },
  {
   "cell_type": "code",
   "execution_count": null,
   "id": "3b29e572",
   "metadata": {},
   "outputs": [],
   "source": [
    "ttsapi = 'Rd9tLRKzmOj_lX7R5AWRuxVJrgDcQwjPNoIHAijIjcQ9'\n",
    "ttsurl = 'https://api.au-syd.text-to-speech.watson.cloud.ibm.com/instances/ecae4973-234e-449c-9d53-bd2ee649593d'\n",
    "#ttsver = '2018-05-01'"
   ]
  },
  {
   "cell_type": "code",
   "execution_count": null,
   "id": "a05fcd6d",
   "metadata": {},
   "outputs": [],
   "source": [
    "from ibm_watson import TextToSpeechV1"
   ]
  },
  {
   "cell_type": "code",
   "execution_count": null,
   "id": "77652f36",
   "metadata": {},
   "outputs": [],
   "source": [
    "# input the authentic keys\n",
    "authen = IAmAuthenticators(ttsapi)\n",
    "authen2 = TextToSpeechV1(ver = ttsver, authenticator = authen).get_result()"
   ]
  },
  {
   "cell_type": "code",
   "execution_count": null,
   "id": "b01337dd",
   "metadata": {},
   "outputs": [],
   "source": [
    "ini_ttstext = str(input('hello, please input your text here: '))\n",
    "tran_ttstext = lt.translate(text = ini_ttstext , model = 'en-zh').get_result()\n",
    "Showed_ttstext = tran_ttstext['translations'][0]['translation']\n",
    "Showed_ttstext "
   ]
  },
  {
   "cell_type": "code",
   "execution_count": null,
   "id": "dac77e8c",
   "metadata": {},
   "outputs": [],
   "source": [
    "with open('./Voice_translated.mp3', 'wb') as audio_file:\n",
    "        res = tts.synrthesize(text, accept = 'audio/mp3', voice = 'zh-CN_LiNaVoice').get_result()\n",
    "        audio_file.write(res.content)"
   ]
  },
  {
   "cell_type": "markdown",
   "id": "bbb6bf52",
   "metadata": {},
   "source": [
    "- with open('./help.mp3', 'wb') as audio_file: \n",
    "This line opens a file named \"help.mp3\" in write-binary mode ('wb'). The with statement is used to ensure that the file is properly closed after writing to it.\n",
    "\n",
    "- res = tts.synthesize(text, accept='audio/mp3', voice='de-DE_BirgitV3Voice').get_result()\n",
    "This line sends a request to the IBM Watson Text-to-Speech API to synthesize audio from the text input. The accept parameter specifies that the audio format should be MP3, and the voice parameter specifies which voice to use (in this case, the \"de-DE_BirgitV3Voice\" voice, which is a German female voice).\n",
    "\n",
    "- audio_file.write(res.content)\n",
    "This line writes the audio content returned by the Text-to-Speech API to the file opened in step 1. The content attribute of the res object contains the raw audio data. By writing this data to the file, the resulting MP3 file is saved to disk.\n",
    "\n",
    "- Access the voice type in IBM here: https://cloud.ibm.com/docs/text-to-speech?topic=text-to-speech-voices"
   ]
  },
  {
   "cell_type": "code",
   "execution_count": null,
   "id": "f89a266c",
   "metadata": {},
   "outputs": [],
   "source": []
  }
 ],
 "metadata": {
  "kernelspec": {
   "display_name": "Python 3 (ipykernel)",
   "language": "python",
   "name": "python3"
  },
  "language_info": {
   "codemirror_mode": {
    "name": "ipython",
    "version": 3
   },
   "file_extension": ".py",
   "mimetype": "text/x-python",
   "name": "python",
   "nbconvert_exporter": "python",
   "pygments_lexer": "ipython3",
   "version": "3.9.12"
  }
 },
 "nbformat": 4,
 "nbformat_minor": 5
}
